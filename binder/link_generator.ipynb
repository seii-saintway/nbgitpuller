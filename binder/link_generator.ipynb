{
 "cells": [
  {
   "cell_type": "markdown",
   "metadata": {},
   "source": [
    "# Generate `nbgitpuller` links for your JupyterHub\n",
    "\n",
    "When users click an `nbgitpuller` link pointing to your JupyterHub,\n",
    "\n",
    "1. They are asked to log in to the JupyterHub if they have not already\n",
    "2. The git repository referred to in the nbgitpuller link is made up to date in their home directory (keeping local changes if there are merge conflicts)\n",
    "3. They are shown the specific notebook / directory referred to in the nbgitpuller link.\n",
    "\n",
    "This is a great way to distribute materials to students."
   ]
  },
  {
   "cell_type": "code",
   "execution_count": null,
   "metadata": {},
   "outputs": [],
   "source": [
    "from ipywidgets import interact\n",
    "from urllib.parse import urlunparse, urlparse, urlencode, parse_qs\n",
    "from IPython.display import Markdown\n",
    "\n",
    "@interact\n",
    "def make_nbgitpuller_link(hub_url='', repo_url='', branch='', filepath='', app=['notebook', 'lab']):\n",
    "    \"\"\"Generate an ipywidget form that creates an interact link.\"\"\"\n",
    "    \n",
    "    # Don't do anything if we don't have a hub_url or repo_url\n",
    "    if not (len(hub_url) > 0 and len(repo_url) > 0):\n",
    "        return\n",
    "    \n",
    "    # Parse the query to its constituent parts\n",
    "    scheme, netloc, path, params, query_str, fragment = urlparse(hub_url.strip())\n",
    "    \n",
    "    # nbgitpuller takes arguments via query parameters.\n",
    "    # However, your hub might already require query parameters to function (for example, to pick a profile to launch in)\n",
    "    # So we preserve the parameters we get & amend them to include the git-pull info we want\n",
    "    query = parse_qs(query_str, keep_blank_values=True)\n",
    "    \n",
    "    \n",
    "    # Make sure the path doesn't contain multiple slashes\n",
    "    if not path.endswith('/'):\n",
    "        path += '/'\n",
    "    path += 'hub/user-redirect/git-pull'\n",
    "    \n",
    "    # Construct query parameters from \n",
    "    for name, val in [('repo', repo_url), ('branch', branch), ('subPath', filepath), ('app', app)]:\n",
    "        if len(val) > 0:\n",
    "            query[name] = val.strip().strip('/')\n",
    "    \n",
    "    url = urlunparse((scheme, netloc, path, params, urlencode(query, doseq=True), fragment))\n",
    "    \n",
    "    # FIXME: Have this return something instead of print so we can unit test\n",
    "    print(url)"
   ]
  }
 ],
 "metadata": {
  "kernelspec": {
   "display_name": "Python 3",
   "language": "python",
   "name": "python3"
  },
  "language_info": {
   "codemirror_mode": {
    "name": "ipython",
    "version": 3
   },
   "file_extension": ".py",
   "mimetype": "text/x-python",
   "name": "python",
   "nbconvert_exporter": "python",
   "pygments_lexer": "ipython3",
   "version": "3.6.7"
  }
 },
 "nbformat": 4,
 "nbformat_minor": 2
}
